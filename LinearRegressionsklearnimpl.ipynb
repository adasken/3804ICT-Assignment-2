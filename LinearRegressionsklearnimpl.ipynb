{
 "cells": [
  {
   "cell_type": "markdown",
   "metadata": {},
   "source": [
    "## Import Libraries and Dataset\n"
   ]
  },
  {
   "cell_type": "code",
   "execution_count": 102,
   "metadata": {},
   "outputs": [],
   "source": [
    "import pandas as pd\n",
    "import numpy as np\n",
    "import matplotlib.pyplot as plt\n",
    "from sklearn.linear_model import LinearRegression\n",
    "from sklearn.model_selection import train_test_split\n",
    "from sklearn import metrics\n",
    "import time\n",
    "start_time = time.time()\n",
    "df = pd.read_csv(\"modified_listings_both.csv\")\n"
   ]
  },
  {
   "cell_type": "markdown",
   "metadata": {},
   "source": [
    "## Preparing the data"
   ]
  },
  {
   "cell_type": "code",
   "execution_count": 103,
   "metadata": {},
   "outputs": [
    {
     "name": "stdout",
     "output_type": "stream",
     "text": [
      "(13902, 2)\n"
     ]
    }
   ],
   "source": [
    "#only two fields\n",
    "\n",
    "df = df[[\"availability_30\",\"price\"]].copy()\n",
    "\n",
    "print(df.shape)\n",
    "\n",
    "X = df.iloc[:, :-1].values\n",
    "y = df.iloc[:, 1].values\n",
    "\n",
    "X_train, X_test, y_train, y_test = train_test_split(X, y, test_size=0.3, random_state=0)\n",
    "\n",
    "#X axis is avaliability\n",
    "#X = df[\"availability_30\"].to_numpy()\n",
    "#Y axis is price\n",
    "#Y = df[\"price\"].to_numpy()\n",
    "\n",
    "#X = np.array(X)\n",
    "#Y = np.array(Y)\n"
   ]
  },
  {
   "cell_type": "markdown",
   "metadata": {},
   "source": [
    "## Fitting and predicting"
   ]
  },
  {
   "cell_type": "code",
   "execution_count": 104,
   "metadata": {},
   "outputs": [],
   "source": [
    "model = LinearRegression()\n",
    "model.fit(X_train, y_train)\n",
    "\n",
    "y_pred = model.predict(X_test)\n",
    "\n",
    "\n"
   ]
  },
  {
   "cell_type": "markdown",
   "metadata": {},
   "source": [
    "## Plot and error"
   ]
  },
  {
   "cell_type": "code",
   "execution_count": 105,
   "metadata": {},
   "outputs": [
    {
     "name": "stdout",
     "output_type": "stream",
     "text": [
      "MSE: 33027.646728375854\n",
      "[175.34950907 174.75639328 174.16327749 173.5701617  172.97704591\n",
      " 172.38393011 171.79081432 171.19769853 170.60458274 170.01146695\n",
      " 169.41835116 168.82523536 168.23211957 167.63900378 167.04588799\n",
      " 166.4527722  165.85965641 165.26654062 164.67342482 164.08030903\n",
      " 163.48719324 162.89407745 162.30096166 161.70784587 161.11473007\n",
      " 160.52161428 159.92849849 159.3353827  158.74226691]\n",
      "-0.5931157915850033 * x +  176.5357406551216\n"
     ]
    },
    {
     "data": {
      "image/png": "[encoded data removed]",
      "text/plain": [
       "<Figure size 432x288 with 1 Axes>"
      ]
     },
     "metadata": {
      "needs_background": "light"
     },
     "output_type": "display_data"
    },
    {
     "name": "stdout",
     "output_type": "stream",
     "text": [
      "--- 0.22141337394714355 seconds ---\n"
     ]
    }
   ],
   "source": [
    "print('MSE:', metrics.mean_squared_error(y_test, y_pred))\n",
    "print(np.sort(np.unique(y_pred))[::-1])\n",
    "print(model.coef_[0],\"* x + \", model.intercept_)\n",
    "plt.scatter(X_test, y_test,  color='gray')\n",
    "plt.plot(X_test, y_pred, color='red', linewidth=2)\n",
    "plt.title('Library Implementation - Both')\n",
    "plt.ylabel('Price')\n",
    "plt.xlabel('Avalibility_30')\n",
    "plt.show()\n",
    "print(\"--- %s seconds ---\" % (time.time() - start_time))\n",
    "\n",
    "\n",
    "\n"
   ]
  },
  {
   "cell_type": "code",
   "execution_count": null,
   "metadata": {},
   "outputs": [],
   "source": []
  }
 ],
 "metadata": {
  "kernelspec": {
   "display_name": "Python 3",
   "language": "python",
   "name": "python3"
  },
  "language_info": {
   "codemirror_mode": {
    "name": "ipython",
    "version": 3
   },
   "file_extension": ".py",
   "mimetype": "text/x-python",
   "name": "python",
   "nbconvert_exporter": "python",
   "pygments_lexer": "ipython3",
   "version": "3.8.5"
  }
 },
 "nbformat": 4,
 "nbformat_minor": 4
}
