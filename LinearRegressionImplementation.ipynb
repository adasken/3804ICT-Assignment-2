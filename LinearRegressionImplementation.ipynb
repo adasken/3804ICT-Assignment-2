{
 "cells": [
  {
   "cell_type": "markdown",
   "metadata": {},
   "source": [
    "## Import Libraries and Dataset"
   ]
  },
  {
   "cell_type": "code",
   "execution_count": 267,
   "metadata": {},
   "outputs": [],
   "source": [
    "import pandas as pd\n",
    "import numpy as np\n",
    "import matplotlib.pyplot as plt\n",
    "import time\n",
    "start_time = time.time()\n",
    "\n",
    "df = pd.read_csv(\"combined_listings2.csv\")\n",
    "\n"
   ]
  },
  {
   "cell_type": "markdown",
   "metadata": {},
   "source": [
    "## Convert dataset into usable datatypes"
   ]
  },
  {
   "cell_type": "code",
   "execution_count": 268,
   "metadata": {},
   "outputs": [],
   "source": [
    "#convert money into a float\n",
    "df[\"price\"] = df[\"price\"].replace('[\\$\\,]',\"\",regex=True).astype(float)"
   ]
  },
  {
   "cell_type": "markdown",
   "metadata": {},
   "source": [
    "## Sanity Check"
   ]
  },
  {
   "cell_type": "code",
   "execution_count": 269,
   "metadata": {},
   "outputs": [],
   "source": [
    "# Examine all the attributes for invalid data\n",
    "# Check if Id is a valid number (greater than 0)\n",
    "df = df[df['id'] >= 1]\n",
    "# Total listing should be greater than or equal to 1\n",
    "df = df[df['host_total_listings_count'] >= 1]\n",
    "# Check the integer values related to the property - should be at least 1\n",
    "df = df[df['bedrooms'] >= 1]\n",
    "df = df[df['beds'] >= 1]\n",
    "# Check and remove negative numbered property listings\n",
    "df = df[df['price'] >= 0]\n",
    "# Minimum and Maximum nights must be at least 1\n",
    "df = df[df['minimum_nights'] >= 1]\n",
    "df = df[df['maximum_nights'] >= 1]\n",
    "# Avaliability must be greater than or equal to 0 \n",
    "df = df[df['availability_30'] >= 0]\n",
    "df = df[df['availability_60'] >= 0]\n",
    "df = df[df['availability_90'] >= 0]\n",
    "df = df[df['availability_365'] >= 0]\n",
    "# must also be no more than the number of days of their category \n",
    "# (avaliability_30 must not exceed 30 days)\n",
    "df = df[df['availability_30'] <= 30]\n",
    "df = df[df['availability_60'] <= 60]\n",
    "df = df[df['availability_90'] <= 90]\n",
    "df = df[df['availability_365'] <= 365]\n",
    "# Number of reviews - should be greater than or equal to 0\n",
    "df = df[df['number_of_reviews'] >= 0]\n",
    "df = df[df['number_of_reviews_ltm'] >= 0]\n",
    "df = df[df['number_of_reviews_l30d'] >= 0]\n",
    "# Review scores - Check for incorrect values across all aspects\n",
    "df = df[df['review_scores_rating'] >= 0]\n",
    "df = df[df['review_scores_rating'] <= 100]\n",
    "df = df[df['review_scores_accuracy'] >= 0]\n",
    "df = df[df['review_scores_accuracy'] <= 10]\n",
    "df = df[df['review_scores_cleanliness'] >= 0]\n",
    "df = df[df['review_scores_cleanliness'] <= 10]\n",
    "df = df[df['review_scores_checkin'] >= 0]\n",
    "df = df[df['review_scores_checkin'] <= 10]\n",
    "df = df[df['review_scores_communication'] >= 0]\n",
    "df = df[df['review_scores_communication'] <= 10]\n",
    "df = df[df['review_scores_location'] >= 0]\n",
    "df = df[df['review_scores_location'] <= 10]\n",
    "df = df[df['review_scores_value'] >= 0]\n",
    "df = df[df['review_scores_value'] <= 10]\n",
    "# Calculated host listings - check for invalid entries\n",
    "df = df[df['calculated_host_listings_count'] >= 0]\n",
    "df = df[df['calculated_host_listings_count_entire_homes'] >= 0]\n",
    "df = df[df['calculated_host_listings_count_private_rooms'] >= 0]\n",
    "df = df[df['calculated_host_listings_count_shared_rooms'] >= 0]\n",
    "df = df[df['reviews_per_month'] >= 0]\n"
   ]
  },
  {
   "cell_type": "markdown",
   "metadata": {},
   "source": [
    "## Remove outliers"
   ]
  },
  {
   "cell_type": "code",
   "execution_count": 270,
   "metadata": {
    "scrolled": false
   },
   "outputs": [
    {
     "name": "stdout",
     "output_type": "stream",
     "text": [
      "<class 'pandas.core.frame.DataFrame'>\n",
      "Int64Index: 31719 entries, 0 to 51758\n",
      "Data columns (total 4 columns):\n",
      " #   Column                   Non-Null Count  Dtype  \n",
      "---  ------                   --------------  -----  \n",
      " 0   price                    31719 non-null  float64\n",
      " 1   availability_30          31719 non-null  int64  \n",
      " 2   price_z_score            31719 non-null  float64\n",
      " 3   availability_30_z_score  31719 non-null  float64\n",
      "dtypes: float64(3), int64(1)\n",
      "memory usage: 1.2 MB\n"
     ]
    }
   ],
   "source": [
    "selected = df[['price','availability_30']].copy();\n",
    "var = 0\n",
    "# Calculate Z Score for each variable and column creating a new column for each one\n",
    "for column in selected:\n",
    "    column_z_score = column + '_z_score'\n",
    "    if var < 5: # If the five Z score columns haven't been made yet create them\n",
    "        selected[column_z_score] = (selected[column] - selected[column].mean())/selected[column].std(ddof=0)\n",
    "        var = var + 1\n",
    "\n",
    "        \n",
    "        \n",
    "#select the city\n",
    "\n",
    "#selected = selected.loc[df['location'] == \"melbourne\"]\n",
    "#selected = selected.loc[df['location'] == \"sydney\"]\n",
    "selected.info()\n",
    "\n",
    "        \n",
    "#remove the outliers based upon z score\n",
    "selected = selected.loc[selected['price_z_score'].abs() <= 5]\n",
    "\n",
    "\n",
    "#removed 0 days.\n",
    "selected = selected[selected[\"availability_30\"] > 1]\n",
    "\n",
    "\n",
    "\n",
    "\n"
   ]
  },
  {
   "cell_type": "code",
   "execution_count": 271,
   "metadata": {},
   "outputs": [],
   "source": [
    "#change the selected city part\n",
    "#selected.to_csv(\"modified_listings_sydney.csv\");"
   ]
  },
  {
   "cell_type": "markdown",
   "metadata": {},
   "source": [
    "## Implementation"
   ]
  },
  {
   "cell_type": "code",
   "execution_count": 272,
   "metadata": {
    "scrolled": true
   },
   "outputs": [],
   "source": [
    "class LinearRegression:\n",
    "    def __init__( self, x, y,learningRate,epochs):\n",
    "        #initialising values \n",
    "        self.x = x\n",
    "        self.y = y\n",
    "        self.bias = 0\n",
    "        self.slope = 0       \n",
    "        self.length = len(x)\n",
    "        self.learningRate = learningRate\n",
    "        self.epochs = epochs\n",
    "        self.loss = []\n",
    "        \n",
    "    def fit( self):         \n",
    "        #gradient descent\n",
    "        for i in range(self.epochs):\n",
    "            #update predication\n",
    "            y_pred = self.slope * self.x + self.bias\n",
    "            \n",
    "            #keep track of mse\n",
    "            mse = (1/self.length) * np.sum((self.y - y_pred)**2)\n",
    "            self.loss.append(mse)\n",
    "            \n",
    "            #working out the new gradient. \n",
    "            derivativeSlope = ( -2 / self.length) * np.sum( self.x * ( self.y - y_pred ))\n",
    "            derivativeBias = ( -2 / self.length) * np.sum( self.y - y_pred )\n",
    "             \n",
    "            #updating the values\n",
    "            self.slope = self.slope - self.learningRate * derivativeSlope\n",
    "            self.bias = self.bias - self.learningRate * derivativeBias\n",
    "            \n",
    "    def mse( self):\n",
    "        return self.loss  \n",
    "    \n",
    "    def predict_print( self):\n",
    "        print(self.slope, \" * \" , \" x + \" ,  self.bias)\n",
    "        \n",
    "    \n",
    "    def predict( self , X):\n",
    "        y_pred = self.slope * X + self.bias \n",
    "        return y_pred\n",
    "\n",
    "\n",
    "    \n",
    "\n",
    "X = np.array(selected[\"availability_30\"])\n",
    "Y = np.array(selected[\"price\"])    \n",
    "#LinearRegression(x,y,learningrate,epochs)    \n",
    "model = LinearRegression(X,Y,0.001, 1000)\n",
    "#0.001, 1000\n",
    "model.fit()\n",
    "\n"
   ]
  },
  {
   "cell_type": "markdown",
   "metadata": {},
   "source": [
    "## Plot"
   ]
  },
  {
   "cell_type": "code",
   "execution_count": 273,
   "metadata": {},
   "outputs": [
    {
     "name": "stdout",
     "output_type": "stream",
     "text": [
      "MSE : 30641.4128645898\n",
      "[ 39.30503761  44.22491513  49.14479266  54.06467018  58.98454771\n",
      "  63.90442523  68.82430276  73.74418028  78.66405781  83.58393534\n",
      "  88.50381286  93.42369039  98.34356791 103.26344544 108.18332296\n",
      " 113.10320049 118.02307801 122.94295554 127.86283306 132.78271059\n",
      " 137.70258811 142.62246564 147.54234316 152.46222069 157.38209822\n",
      " 162.30197574 167.22185327 172.14173079 177.06160832]\n",
      "4.919877525327197  *   x +  29.465282556709198\n"
     ]
    },
    {
     "data": {
      "image/png": "[encoded data removed]",
      "text/plain": [
       "<Figure size 864x360 with 1 Axes>"
      ]
     },
     "metadata": {
      "needs_background": "light"
     },
     "output_type": "display_data"
    },
    {
     "name": "stdout",
     "output_type": "stream",
     "text": [
      "--- 2.9441566467285156 seconds ---\n"
     ]
    }
   ],
   "source": [
    "#print(\"Initial MSE : \" + str(model.mse()[0]))\n",
    "print(\"MSE : \" + str(model.mse()[-1]))\n",
    "\n",
    "#graphing predictive points.. we will create a line using these points\n",
    "y_pred = model.predict(X)\n",
    "print(np.unique(y_pred))\n",
    "model.predict_print()\n",
    "\n",
    "#ploting the graph\n",
    "plt.figure(figsize = (12,5))\n",
    "plt.scatter(X , Y, color = 'blue')\n",
    "plt.plot(X , y_pred , color = 'orange' )\n",
    "plt.title('Sydney')\n",
    "plt.ylabel('Price')\n",
    "plt.xlabel('Avalibility_30')\n",
    "plt.show()\n",
    "\n",
    "print(\"--- %s seconds ---\" % (time.time() - start_time))"
   ]
  },
  {
   "cell_type": "code",
   "execution_count": null,
   "metadata": {},
   "outputs": [],
   "source": []
  }
 ],
 "metadata": {
  "kernelspec": {
   "display_name": "Python 3",
   "language": "python",
   "name": "python3"
  },
  "language_info": {
   "codemirror_mode": {
    "name": "ipython",
    "version": 3
   },
   "file_extension": ".py",
   "mimetype": "text/x-python",
   "name": "python",
   "nbconvert_exporter": "python",
   "pygments_lexer": "ipython3",
   "version": "3.8.5"
  }
 },
 "nbformat": 4,
 "nbformat_minor": 4
}
