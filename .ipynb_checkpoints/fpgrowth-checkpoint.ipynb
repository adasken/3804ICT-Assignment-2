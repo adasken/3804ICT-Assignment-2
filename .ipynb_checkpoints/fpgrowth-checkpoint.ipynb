{
 "cells": [
  {
   "cell_type": "markdown",
   "id": "45ea8903",
   "metadata": {},
   "source": [
    "# 3804 Data Mining - Assignment 2\n",
    "## Author: Ken Quach\n",
    "## Algorithm: FP-Growth\n",
    "### Github: https://github.com/adasken/3804ICT-Assignment-2\n",
    "----------"
   ]
  },
  {
   "cell_type": "markdown",
   "id": "170d3ecb",
   "metadata": {},
   "source": [
    "# Remove outliers and missing data (from previous project)"
   ]
  },
  {
   "cell_type": "code",
   "execution_count": 1,
   "id": "d91ecd50",
   "metadata": {},
   "outputs": [],
   "source": [
    "import pandas as pd \n",
    "import numpy as np\n",
    "import matplotlib.pyplot as plt"
   ]
  },
  {
   "cell_type": "code",
   "execution_count": 2,
   "id": "9ac3581e",
   "metadata": {
    "scrolled": true
   },
   "outputs": [
    {
     "data": {
      "text/plain": [
       "id                                                int64\n",
       "name                                             object\n",
       "description                                      object\n",
       "neighborhood_overview                            object\n",
       "host_location                                    object\n",
       "host_total_listings_count                       float64\n",
       "host_identity_verified                           object\n",
       "neighbourhood_cleansed                           object\n",
       "latitude                                        float64\n",
       "longitude                                       float64\n",
       "property_type                                    object\n",
       "room_type                                        object\n",
       "accommodates                                      int64\n",
       "bathrooms_text                                   object\n",
       "bedrooms                                        float64\n",
       "beds                                            float64\n",
       "amenities                                        object\n",
       "price                                            object\n",
       "minimum_nights                                    int64\n",
       "maximum_nights                                    int64\n",
       "availability_30                                   int64\n",
       "availability_60                                   int64\n",
       "availability_90                                   int64\n",
       "availability_365                                  int64\n",
       "number_of_reviews                                 int64\n",
       "number_of_reviews_ltm                             int64\n",
       "number_of_reviews_l30d                            int64\n",
       "first_review                                     object\n",
       "last_review                                      object\n",
       "review_scores_rating                            float64\n",
       "review_scores_accuracy                          float64\n",
       "review_scores_cleanliness                       float64\n",
       "review_scores_checkin                           float64\n",
       "review_scores_communication                     float64\n",
       "review_scores_location                          float64\n",
       "review_scores_value                             float64\n",
       "instant_bookable                                 object\n",
       "calculated_host_listings_count                    int64\n",
       "calculated_host_listings_count_entire_homes       int64\n",
       "calculated_host_listings_count_private_rooms      int64\n",
       "calculated_host_listings_count_shared_rooms       int64\n",
       "reviews_per_month                               float64\n",
       "location                                         object\n",
       "dtype: object"
      ]
     },
     "execution_count": 2,
     "metadata": {},
     "output_type": "execute_result"
    }
   ],
   "source": [
    "# Read in data as a pandas dataframe\n",
    "df = pd.read_csv(\"combined_listings2.csv\")\n",
    "t = df[['id','name','description','neighborhood_overview','host_location','host_total_listings_count','host_identity_verified','neighbourhood_cleansed','latitude','longitude','property_type','room_type','accommodates','bathrooms_text','bedrooms','beds','amenities','price','minimum_nights','maximum_nights','availability_30','availability_60','availability_90'\n",
    ",'availability_365','number_of_reviews','number_of_reviews_ltm','number_of_reviews_l30d','first_review','last_review','review_scores_rating','review_scores_accuracy','review_scores_cleanliness','review_scores_checkin','review_scores_communication','review_scores_location'\n",
    ",'review_scores_value','instant_bookable','calculated_host_listings_count','calculated_host_listings_count_entire_homes','calculated_host_listings_count_private_rooms','calculated_host_listings_count_shared_rooms','reviews_per_month','location']].copy()\n",
    "df = t\n",
    "df.dtypes\n",
    "\n"
   ]
  },
  {
   "cell_type": "code",
   "execution_count": 3,
   "id": "e2d429c6",
   "metadata": {},
   "outputs": [
    {
     "data": {
      "text/plain": [
       "id                                              False\n",
       "name                                             True\n",
       "description                                      True\n",
       "neighborhood_overview                            True\n",
       "host_location                                    True\n",
       "host_total_listings_count                        True\n",
       "host_identity_verified                           True\n",
       "neighbourhood_cleansed                          False\n",
       "latitude                                        False\n",
       "longitude                                       False\n",
       "property_type                                   False\n",
       "room_type                                       False\n",
       "accommodates                                    False\n",
       "bathrooms_text                                   True\n",
       "bedrooms                                         True\n",
       "beds                                             True\n",
       "amenities                                       False\n",
       "price                                           False\n",
       "minimum_nights                                  False\n",
       "maximum_nights                                  False\n",
       "availability_30                                 False\n",
       "availability_60                                 False\n",
       "availability_90                                 False\n",
       "availability_365                                False\n",
       "number_of_reviews                               False\n",
       "number_of_reviews_ltm                           False\n",
       "number_of_reviews_l30d                          False\n",
       "first_review                                     True\n",
       "last_review                                      True\n",
       "review_scores_rating                             True\n",
       "review_scores_accuracy                           True\n",
       "review_scores_cleanliness                        True\n",
       "review_scores_checkin                            True\n",
       "review_scores_communication                      True\n",
       "review_scores_location                           True\n",
       "review_scores_value                              True\n",
       "instant_bookable                                False\n",
       "calculated_host_listings_count                  False\n",
       "calculated_host_listings_count_entire_homes     False\n",
       "calculated_host_listings_count_private_rooms    False\n",
       "calculated_host_listings_count_shared_rooms     False\n",
       "reviews_per_month                                True\n",
       "location                                        False\n",
       "dtype: bool"
      ]
     },
     "execution_count": 3,
     "metadata": {},
     "output_type": "execute_result"
    }
   ],
   "source": [
    "# Handle missing data\n",
    "# Find which attributes have any missing data\n",
    "df.isna().any()"
   ]
  },
  {
   "cell_type": "code",
   "execution_count": 4,
   "id": "07b61ca2",
   "metadata": {},
   "outputs": [
    {
     "data": {
      "text/plain": [
       "(51811, 43)"
      ]
     },
     "execution_count": 4,
     "metadata": {},
     "output_type": "execute_result"
    }
   ],
   "source": [
    "# Show Amount of rows the data now has\n",
    "df.shape"
   ]
  },
  {
   "cell_type": "code",
   "execution_count": 5,
   "id": "0ceadeec",
   "metadata": {},
   "outputs": [
    {
     "data": {
      "text/plain": [
       "(51811, 43)"
      ]
     },
     "execution_count": 5,
     "metadata": {},
     "output_type": "execute_result"
    }
   ],
   "source": [
    "# Drop any duplicates in the data - if any exist\n",
    "df = df.drop_duplicates()\n",
    "\n",
    "# Show starting number of rows the dataset contains\n",
    "df.shape"
   ]
  },
  {
   "cell_type": "code",
   "execution_count": 6,
   "id": "5fb350a0",
   "metadata": {},
   "outputs": [
    {
     "data": {
      "text/plain": [
       "(34914, 43)"
      ]
     },
     "execution_count": 6,
     "metadata": {},
     "output_type": "execute_result"
    }
   ],
   "source": [
    "# Remove missing/incomplete data based on attributes where they should be removed.\n",
    "# To ensure proper data cleaning the attributes: bathrooms_text, bedrooms, beds, \n",
    "# review_scores_rating, review_scores_accuracy, review_scores_cleanliness, first_review, last_review\n",
    "# review_scores_checkin, review_scores_communication, review_scores_location, review_scores_value, and reviews_per_month.\n",
    "# will have the any entries with NaN for these attributes removed.\n",
    "# Without the values of the attribute the data is not usable for the algorithm and can negatively affect the results.\n",
    "df = df.dropna(subset=['bathrooms_text','bedrooms','beds',\n",
    "                       'review_scores_rating','review_scores_accuracy','review_scores_cleanliness',\n",
    "                       'review_scores_checkin','review_scores_communication','review_scores_location',\n",
    "                       'review_scores_value','reviews_per_month','first_review','last_review'])\n",
    "\n",
    "\n",
    "# Format price to remove the dollar sign and commas\n",
    "df['price'] = df['price'].str.replace(',','')\n",
    "df['price'] = df['price'].str.replace('$','',regex=False)\n",
    "df['price'] = df['price'].str.replace(' ', '')\n",
    "\n",
    "df.shape\n",
    "# As shown by the output some missing/incomplete data was removed \n",
    "# to prevent these from negatively affecting the algorithm's results"
   ]
  },
  {
   "cell_type": "code",
   "execution_count": 7,
   "id": "0ee06be5",
   "metadata": {},
   "outputs": [
    {
     "name": "stdout",
     "output_type": "stream",
     "text": [
      "Bathrooms: False\n",
      "Bedrooms: False\n",
      "Beds: False\n",
      "Rating: False\n",
      "Accuracy: False\n",
      "Cleanliness: False\n",
      "Checkin: False\n",
      "Communication: False\n",
      "Location: False\n",
      "Value: False\n",
      "Reviews per month: False\n",
      "First Reviews: False\n",
      "Last Reviews: False\n"
     ]
    }
   ],
   "source": [
    "# Check all the variables being cleaned to see if there are no empty attributes data entries\n",
    "# these are different from NaN as the cell is completely empty -> If true these will be removed\n",
    "print(\"Bathrooms:\", df['bathrooms_text'].empty)\n",
    "print(\"Bedrooms:\", df['bedrooms'].empty)\n",
    "print(\"Beds:\", df['beds'].empty)\n",
    "print(\"Rating:\", df['review_scores_rating'].empty)\n",
    "print(\"Accuracy:\", df['review_scores_accuracy'].empty)\n",
    "print(\"Cleanliness:\", df['review_scores_cleanliness'].empty)\n",
    "print(\"Checkin:\", df['review_scores_checkin'].empty)\n",
    "print(\"Communication:\", df['review_scores_communication'].empty)\n",
    "print(\"Location:\", df['review_scores_location'].empty)\n",
    "print(\"Value:\", df['review_scores_value'].empty)\n",
    "print(\"Reviews per month:\", df['reviews_per_month'].empty)\n",
    "print(\"First Reviews:\", df['first_review'].empty)\n",
    "print(\"Last Reviews:\", df['last_review'].empty)"
   ]
  },
  {
   "cell_type": "markdown",
   "id": "e1f2378f",
   "metadata": {},
   "source": [
    "# Extract the transactions from the dataset"
   ]
  },
  {
   "cell_type": "code",
   "execution_count": 8,
   "id": "c6afcb5f",
   "metadata": {},
   "outputs": [],
   "source": [
    "def json_to_list(x):\n",
    "    if x == '[]':\n",
    "        return []\n",
    "    return pd.read_json(x)[0].tolist()\n",
    "\n",
    "mel = df[df['location'] == 'melbourne']\n",
    "syd = df[df['location'] == 'sydney']\n",
    "\n",
    "mel = mel['amenities'].apply(json_to_list).reset_index()['amenities'].tolist()\n",
    "syd = syd['amenities'].apply(json_to_list).reset_index()['amenities'].tolist()\n",
    "\n",
    "# get total\n",
    "total = df['amenities']\n",
    "total = total.reset_index()['amenities']\n",
    "total = total.apply(json_to_list)"
   ]
  },
  {
   "cell_type": "markdown",
   "id": "211c4b83",
   "metadata": {},
   "source": [
    "### Get the transactions that contains only top k popular items (based on their frequency)"
   ]
  },
  {
   "cell_type": "code",
   "execution_count": 9,
   "id": "20bfdc17",
   "metadata": {},
   "outputs": [
    {
     "data": {
      "text/plain": [
       "['Essentials', 'Kitchen', 'Wifi']"
      ]
     },
     "execution_count": 9,
     "metadata": {},
     "output_type": "execute_result"
    }
   ],
   "source": [
    "# count each items and select only top ones\n",
    "amenities_counts = {}\n",
    "\n",
    "for i in total:\n",
    "    for j in i:\n",
    "        if j not in amenities_counts:\n",
    "            amenities_counts[j] = 1\n",
    "        else:\n",
    "            amenities_counts[j] += 1\n",
    "\n",
    "amenities_counts = {k: v for k, v in sorted(amenities_counts.items(), key=lambda item: item[1], reverse=True)}\n",
    "\n",
    "amenities_counts\n",
    "\n",
    "top_k_items = {k: amenities_counts[k] for k in list(amenities_counts)[:30]}\n",
    "top_k_items = list(top_k_items.keys())\n",
    "# top_k_items.remove('Carbon monoxide alarm')\n",
    "# top_k_items.remove('Wifi')\n",
    "top_k_items[:3]"
   ]
  },
  {
   "cell_type": "code",
   "execution_count": 10,
   "id": "21adeed4",
   "metadata": {
    "scrolled": false
   },
   "outputs": [],
   "source": [
    "for i in range(len(mel)):\n",
    "    mel[i] = [x for x in mel[i] if x in top_k_items]\n",
    "\n",
    "for i in range(len(syd)):\n",
    "    syd[i] = [x for x in syd[i] if x in top_k_items] \n",
    "    \n",
    "for i in range(len(total)):\n",
    "    total[i] = [x for x in total[i] if x in top_k_items]    "
   ]
  },
  {
   "cell_type": "code",
   "execution_count": 11,
   "id": "cab4accd",
   "metadata": {},
   "outputs": [],
   "source": [
    "mel = [x for x in mel if x != []]\n",
    "syd = [x for x in syd if x != []]\n",
    "total = [x for x in total if x != []]\n"
   ]
  },
  {
   "cell_type": "markdown",
   "id": "027f0871",
   "metadata": {},
   "source": [
    "# FP Growth Implementation"
   ]
  },
  {
   "cell_type": "markdown",
   "id": "7aa9a053",
   "metadata": {},
   "source": [
    "## Implementation"
   ]
  },
  {
   "cell_type": "code",
   "execution_count": 12,
   "id": "ac56e033",
   "metadata": {},
   "outputs": [],
   "source": [
    "import pprint\n",
    "import time\n",
    "import pyfpgrowth\n",
    "import itertools\n",
    "import pandas as pd\n",
    "\n",
    "test_set = [['I1','I2','I5'],\n",
    "     ['I2','I4'],\n",
    "     ['I2','I3'],\n",
    "     ['I1','I2','I4'],\n",
    "     ['I1','I3'],\n",
    "     ['I2','I3'],\n",
    "     ['I1','I3'],\n",
    "     ['I1','I2','I3','I5'],\n",
    "     ['I1','I2','I3']\n",
    "    ]"
   ]
  },
  {
   "cell_type": "code",
   "execution_count": 13,
   "id": "78adbfd6",
   "metadata": {
    "scrolled": false
   },
   "outputs": [
    {
     "name": "stdout",
     "output_type": "stream",
     "text": [
      "Association rules: \n",
      "\n",
      "{('I1', 'I5'): [(('I2',), 1.2857142857142856)],\n",
      " ('I2', 'I5'): [(('I1',), 1.5)],\n",
      " ('I4',): [(('I2',), 1.2857142857142856)],\n",
      " ('I5',): [(('I1', 'I2'), 2.25), (('I1',), 1.5), (('I2',), 1.2857142857142856)]}\n",
      "Time taken: 0.0018339157104492188s\n"
     ]
    }
   ],
   "source": [
    "class Node(object):\n",
    "    \n",
    "    def __init__(self, name, count, parent):\n",
    "        self.name = name\n",
    "        self.count = count\n",
    "        self.parent = parent\n",
    "        self.next = None\n",
    "        self.children = np.array([])\n",
    "        \n",
    "    def add_child(self, name):\n",
    "        child = Node(name, 1, self)\n",
    "        self.children = np.append(self.children, child)\n",
    "        return child\n",
    "    \n",
    "    def has_child(self, name):\n",
    "        for node in self.children:\n",
    "            if node.name == name:\n",
    "                return True\n",
    "        return False\n",
    "    \n",
    "    def get_child(self, name):\n",
    "        for node in self.children:\n",
    "            if node.name == name:\n",
    "                return node\n",
    "        return None\n",
    "\n",
    "    \n",
    "    \n",
    "class Tree(object):\n",
    "\n",
    "    def __init__(self, transactions, threshold, root_name, root_count):\n",
    "        \n",
    "        self.frequents = build_frequents_table(transactions, threshold)        \n",
    "        self.headers = build_headers_table(self.frequents)\n",
    "        self.root = self.build_tree(transactions, root_name, root_count, self.headers, self.frequents)\n",
    "        \n",
    "        \n",
    "    def build_tree(self, transactions, root_name, root_count, headers, frequents):\n",
    "        root = Node(root_name, root_count, None)\n",
    "        for transaction in transactions:\n",
    "            sorted_transaction = [x for x in transaction if x in frequents]\n",
    "            sorted_transaction = sorted(sorted_transaction, key=lambda x: frequents[x], reverse=True)\n",
    "            current = root\n",
    "            for item in sorted_transaction:\n",
    "                if current.has_child(item):\n",
    "                    current = current.get_child(item)\n",
    "                    current.count += 1 \n",
    "                else:\n",
    "                    current.add_child(item)\n",
    "                    current = current.get_child(item)\n",
    "                    \n",
    "                    if headers[current.name] is None:\n",
    "                        headers[current.name] = current\n",
    "                    else:\n",
    "                        headers_current = headers[current.name]\n",
    "                        while headers_current.next is not None:\n",
    "                            headers_current = headers_current.next\n",
    "                        headers_current.next = current                    \n",
    "        return root\n",
    "\n",
    "    \n",
    "    \n",
    "    def generate_patterns(self, threshold):\n",
    "        patterns = {}\n",
    "        mining_order = sorted(self.frequents.keys(), key=lambda x: self.frequents[x])\n",
    "        \n",
    "        for item in mining_order:\n",
    "#             print('item: ', item)\n",
    "            occurences = np.array([])\n",
    "            cond_tree_input = []\n",
    "            current = self.headers[item]\n",
    "\n",
    "            while current is not None:\n",
    "                occurences = np.append(occurences, current)\n",
    "                current = current.next\n",
    "\n",
    "            for occurence in occurences:\n",
    "                frequency = occurence.count\n",
    "                path = []\n",
    "                parent = occurence.parent\n",
    "                \n",
    "                while parent.parent is not None:\n",
    "                    path.append(parent.name)\n",
    "                    parent = parent.parent\n",
    "                for i in range(frequency):\n",
    "                    cond_tree_input.append(path)\n",
    "                    \n",
    "            cond_tree = Tree(cond_tree_input, threshold, item, self.frequents[item])\n",
    "            sub_pattern = mine_cond_tree(cond_tree, threshold, cond_tree_input)\n",
    "                    \n",
    "            patterns = {**patterns, **sub_pattern}\n",
    "\n",
    "        for item in list(patterns.keys()):\n",
    "            if patterns[item] < threshold:\n",
    "                del patterns[item]\n",
    "        \n",
    "        return dict(sorted(patterns.items(), key=lambda x: x[1])), self.frequents\n",
    "\n",
    "\n",
    "    \n",
    "def build_frequents_table(transactions, threshold): \n",
    "    frequents = {}\n",
    "    for transaction in transactions:\n",
    "        for item in transaction:\n",
    "            if item not in frequents:\n",
    "                frequents[item] = 1\n",
    "            else:\n",
    "                frequents[item] += 1\n",
    "    for item in list(frequents.keys()):\n",
    "        if frequents[item] < threshold:\n",
    "            del frequents[item]\n",
    "    return frequents\n",
    "\n",
    "\n",
    "\n",
    "def build_headers_table(frequents):\n",
    "    headers = {}\n",
    "    for key in frequents:\n",
    "        headers[key] = None\n",
    "    \n",
    "    return headers\n",
    "    \n",
    "    \n",
    "def collect_paths(tree, paths, subpath):\n",
    "    path_collection = []\n",
    "    pruned_path_collection = []\n",
    "    visited_nodes = []\n",
    "    for path in paths:\n",
    "        if(all(x in list(path) for x in subpath)):\n",
    "            index2 = path.index(subpath[-1]) + 1 \n",
    "            pruned_path = list(path)[:index2]\n",
    "            path_collection.append(list(pruned_path))        \n",
    "    \n",
    "    for path in path_collection:\n",
    "        current = tree.root\n",
    "        for item in path:\n",
    "            current = current.get_child(item)\n",
    "        if current not in visited_nodes:\n",
    "            pruned_path_collection.append(path)\n",
    "            visited_nodes.append(current)\n",
    "        \n",
    "    return pruned_path_collection\n",
    "\n",
    "\n",
    "\n",
    "def trace_back(tree, patterns, last_node):\n",
    "    current = tree.root\n",
    "    count = 0\n",
    "    for pattern in patterns:\n",
    "        current = tree.root\n",
    "        for item in pattern:\n",
    "            current = current.get_child(item)\n",
    "            if(current.name == last_node):\n",
    "                break\n",
    "        count += current.count\n",
    "    return count\n",
    "\n",
    "\n",
    "\n",
    "def mine_cond_tree(tree, threshold, paths):\n",
    "    current_item = tree.root.name\n",
    "    paths_dict = {}\n",
    "    paths_dict_new = {}\n",
    "    patterns = {}\n",
    "    item_above_threshold = list(tree.frequents.keys())\n",
    "    \n",
    "    for item in paths:\n",
    "        item1 = [x for x in item if x in tree.frequents]\n",
    "        item1 = sorted(item1, key=tree.frequents.get, reverse=True)\n",
    "        paths_dict[tuple(item1)] = paths.count(item)    \n",
    "\n",
    "    # create new path dict\n",
    "    for path, value in paths_dict.items():\n",
    "        temp_path = tuple([x for x in list(path) if x in item_above_threshold])\n",
    "        if temp_path not in paths_dict_new.keys():\n",
    "            paths_dict_new[temp_path] = value\n",
    "        else:\n",
    "            paths_dict_new[temp_path]+=1  \n",
    "    \n",
    "    for path, count in paths_dict_new.items():\n",
    "        if len(list(path)) == 1:\n",
    "            patterns[tuple(sorted(list(path)+[current_item]))] = tree.frequents[list(path)[0]]\n",
    "            item_above_threshold.remove(list(path)[0])\n",
    "        elif len(list(path)) > 1:\n",
    "            temp_dict = tree.frequents\n",
    "            paths_collection = collect_paths(tree, list(paths_dict_new.keys()), list(path))\n",
    "            total_count = trace_back(tree, paths_collection, path[-1])\n",
    "            patterns[tuple(sorted(list(path)+[current_item]))] = total_count\n",
    "            \n",
    "    # Get 2-nodes path\n",
    "    for item in item_above_threshold:\n",
    "        patterns[tuple(sorted([item, current_item]))] = tree.frequents[item]\n",
    "                \n",
    "    return patterns\n",
    "\n",
    "\n",
    "\n",
    "def generate_rules(frequent_table, patterns, conf_threshold):\n",
    "    rules = {}\n",
    "    lifts = {}\n",
    "    frequents_dict = {(k,):v for k,v in frequent_table.items()}\n",
    "    patterns = {**patterns, **frequents_dict}\n",
    "#     print(patterns,'\\n\\n')\n",
    "    for itemset in patterns.keys():\n",
    "#         print('\\nitemset: ', itemset)\n",
    "        combined_support = patterns[itemset]\n",
    "        combinations = []\n",
    "        \n",
    "        for i in range(1, len(itemset)):\n",
    "            for combination in itertools.combinations(itemset, i):\n",
    "                combinations.append(combination)\n",
    "        \n",
    "        for itemsetA in combinations:\n",
    "            itemsetA = tuple(sorted(itemsetA))\n",
    "            itemsetB = tuple(sorted(x for x in itemset if x not in itemsetA))\n",
    "            if itemsetA in patterns and itemsetB in patterns:\n",
    "                itemsetA_support = patterns[itemsetA]\n",
    "                itemsetB_support = patterns[itemsetB]\n",
    "                confidence = float(combined_support) / float(itemsetA_support)\n",
    "                lift = float(confidence) / float(itemsetB_support)\n",
    "                if confidence >= conf_threshold:\n",
    "                    if itemsetA in rules:\n",
    "                        rules[itemsetA].append((itemsetB, confidence))\n",
    "                        lifts[itemsetA].append((itemsetB, lift))\n",
    "                    else:\n",
    "                        rules[itemsetA] = [(itemsetB, confidence)]\n",
    "                        lifts[itemsetA] = [(itemsetB, lift)]\n",
    "\n",
    "    return rules, lifts\n",
    "    \n",
    "    \n",
    "\n",
    "# start timer\n",
    "start = time.time()\n",
    "\n",
    "transactions = test_set\n",
    "no_transactions = len(transactions)\n",
    "sup_threshold = 2\n",
    "conf_threshold = 0.8\n",
    "\n",
    "# initialise tree\n",
    "tree = Tree(transactions, sup_threshold, None, None)\n",
    "print('Association rules: \\n')\n",
    "patterns, frequent_table = tree.generate_patterns(sup_threshold)\n",
    "\n",
    "# create patterns where sup = sup/N\n",
    "patterns_new = {k:v/no_transactions for k, v in patterns.items()}\n",
    "frequent_table = {k:v/no_transactions for k, v in frequent_table.items()}\n",
    "\n",
    "conf_rules, lift_rules = generate_rules(frequent_table, patterns_new, conf_threshold)\n",
    "pprint.pprint(lift_rules)\n",
    "\n",
    "time_taken = time.time() - start\n",
    "print('Time taken: {}s'.format(time_taken))"
   ]
  },
  {
   "cell_type": "code",
   "execution_count": 14,
   "id": "dee335d5",
   "metadata": {},
   "outputs": [
    {
     "name": "stdout",
     "output_type": "stream",
     "text": [
      "{('I1', 'I5'): (('I2',), 1.0),\n",
      " ('I2', 'I5'): (('I1',), 1.0),\n",
      " ('I4',): (('I2',), 1.0),\n",
      " ('I5',): (('I1', 'I2'), 1.0)}\n",
      "\n",
      "Time taken: 0.0007581710815429688s\n"
     ]
    }
   ],
   "source": [
    "# start timer\n",
    "start = time.time()\n",
    "\n",
    "patterns = pyfpgrowth.find_frequent_patterns(transactions, sup_threshold)\n",
    "rules = pyfpgrowth.generate_association_rules(patterns, conf_threshold)\n",
    "pprint.pprint(rules)\n",
    "\n",
    "time_taken = time.time() - start\n",
    "print('\\nTime taken: {}s'.format(time_taken))"
   ]
  },
  {
   "cell_type": "markdown",
   "id": "e5b1901b",
   "metadata": {},
   "source": [
    "# R - Export transaction to CSV"
   ]
  },
  {
   "cell_type": "code",
   "execution_count": 15,
   "id": "e9c9ecad",
   "metadata": {},
   "outputs": [],
   "source": [
    "# Make the transaction to be one hot encoder (for R)\n",
    "from mlxtend.preprocessing import TransactionEncoder\n",
    "\n",
    "te = TransactionEncoder()\n",
    "te_ary = te.fit(transactions).transform(transactions)\n",
    "\n",
    "df_export = pd.DataFrame(te_ary, columns = sorted(frequent_table.keys()))   \n",
    "df_export.to_csv('dataset/test_set.csv', index=False)"
   ]
  },
  {
   "cell_type": "markdown",
   "id": "70778b13",
   "metadata": {},
   "source": [
    "# Weka - Print neccessary metadata\n"
   ]
  },
  {
   "cell_type": "code",
   "execution_count": 16,
   "id": "4d321c35",
   "metadata": {
    "scrolled": true
   },
   "outputs": [
    {
     "name": "stdout",
     "output_type": "stream",
     "text": [
      "@relation test_set\n",
      "\n",
      "@attribute 'Essentials' { t}\n",
      "@attribute 'Kitchen' { t}\n",
      "@attribute 'Wifi' { t}\n",
      "@attribute 'Smoke alarm' { t}\n",
      "@attribute 'Washer' { t}\n",
      "@attribute 'TV' { t}\n",
      "@attribute 'Hangers' { t}\n",
      "@attribute 'Iron' { t}\n",
      "@attribute 'Heating' { t}\n",
      "@attribute 'Hair dryer' { t}\n",
      "@attribute 'Shampoo' { t}\n",
      "@attribute 'Laptop-friendly workspace' { t}\n",
      "@attribute 'Hot water' { t}\n",
      "@attribute 'Air conditioning' { t}\n",
      "@attribute 'Dryer' { t}\n",
      "@attribute 'Dishes and silverware' { t}\n",
      "@attribute 'Refrigerator' { t}\n",
      "@attribute 'Microwave' { t}\n",
      "@attribute 'Stove' { t}\n",
      "@attribute 'Cooking basics' { t}\n",
      "@attribute 'Oven' { t}\n",
      "@attribute 'Free parking on premises' { t}\n",
      "@attribute 'Bed linens' { t}\n",
      "@attribute 'Dishwasher' { t}\n",
      "@attribute 'Free street parking' { t}\n",
      "@attribute 'Patio or balcony' { t}\n",
      "@attribute 'Fire extinguisher' { t}\n",
      "@attribute 'First aid kit' { t}\n",
      "@attribute 'Long term stays allowed' { t}\n",
      "@attribute 'Extra pillows and blankets' { t}\n",
      "\n",
      "@data\n",
      "...\n",
      "\n",
      "Finished writing to file\n"
     ]
    }
   ],
   "source": [
    "set_name = 'test_set'\n",
    "file_name = 'dataset/{}.arff'.format(set_name)\n",
    "\n",
    "# print out\n",
    "print('@relation {}\\n'.format(set_name))\n",
    "for item in top_k_items:\n",
    "    print(\"@attribute '{}' {{ t}}\".format(item))\n",
    "print('\\n@data\\n...')\n",
    "\n",
    "# for row in df_export.values:\n",
    "#     row = ['t' if x else '?' for x in row]\n",
    "#     print(*row, sep=',')\n",
    "    \n",
    "    \n",
    "## write to file\n",
    "f = open(file_name, \"w\")\n",
    "f.write('@relation {}\\n\\n'.format(set_name))\n",
    "for item in top_k_items:\n",
    "    f.write(\"@attribute '{}' {{ t}}\\n\".format(item))\n",
    "f.write('\\n@data\\n')\n",
    "\n",
    "for row in df_export.values:\n",
    "    row = ['t' if x else '?' for x in row]\n",
    "    row_str = ','.join([str(item) for item in row])\n",
    "    f.write(row_str)\n",
    "    f.write('\\n')\n",
    "f.close()\n",
    "print('\\nFinished writing to file')"
   ]
  },
  {
   "cell_type": "markdown",
   "id": "2bf2a15c",
   "metadata": {},
   "source": [
    "# Comparison between implementation and library"
   ]
  },
  {
   "cell_type": "markdown",
   "id": "fa1d5557",
   "metadata": {},
   "source": [
    "### Time taken of library (pyfpgrowth)"
   ]
  },
  {
   "cell_type": "code",
   "execution_count": 17,
   "id": "fee5d029",
   "metadata": {
    "scrolled": false
   },
   "outputs": [
    {
     "name": "stdout",
     "output_type": "stream",
     "text": [
      "100\n",
      "time taken:  0.486051082611084\n",
      "200\n",
      "time taken:  0.5195717811584473\n",
      "300\n",
      "time taken:  0.4824531078338623\n",
      "400\n",
      "time taken:  0.5652339458465576\n",
      "500\n",
      "time taken:  0.7425258159637451\n",
      "600\n",
      "time taken:  1.00407075881958\n",
      "700\n",
      "time taken:  0.9829220771789551\n",
      "800\n",
      "time taken:  1.0386300086975098\n",
      "900\n",
      "time taken:  0.9111323356628418\n",
      "1000\n",
      "time taken:  0.8445730209350586\n",
      "1100\n",
      "time taken:  0.9986708164215088\n",
      "1200\n",
      "time taken:  0.9741370677947998\n",
      "1300\n",
      "time taken:  1.1752099990844727\n",
      "1400\n",
      "time taken:  1.044191837310791\n"
     ]
    }
   ],
   "source": [
    "time_taken_lib = []\n",
    "transactions = mel\n",
    "ranges = int(len(transactions)*10/100)\n",
    "for i in range(100, ranges, 100):\n",
    "    print(i)\n",
    "    # start timer\n",
    "    start = time.time()\n",
    "    \n",
    "    sup_threshold = i*(60/100)\n",
    "    conf_threshold = 0.8\n",
    "    patterns = pyfpgrowth.find_frequent_patterns(transactions[:i], sup_threshold)\n",
    "    rules = pyfpgrowth.generate_association_rules(patterns, conf_threshold)\n",
    "    \n",
    "    time_taken = time.time() - start\n",
    "    print('time taken: ', time_taken)\n",
    "    time_taken_lib.append(time_taken)"
   ]
  },
  {
   "cell_type": "markdown",
   "id": "eaa32373",
   "metadata": {},
   "source": [
    "### Time taken of implementation"
   ]
  },
  {
   "cell_type": "code",
   "execution_count": 18,
   "id": "2103db3e",
   "metadata": {
    "scrolled": false
   },
   "outputs": [
    {
     "name": "stdout",
     "output_type": "stream",
     "text": [
      "100 time taken:  0.06714081764221191\n",
      "200 time taken:  0.07152056694030762\n",
      "300 time taken:  0.08887100219726562\n",
      "400 time taken:  0.10332107543945312\n",
      "500 time taken:  0.11865377426147461\n",
      "600 time taken:  0.15564322471618652\n",
      "700 time taken:  0.18112587928771973\n",
      "800 time taken:  0.23111796379089355\n",
      "900 time taken:  0.1990962028503418\n",
      "1000 time taken:  0.26469898223876953\n",
      "1100 time taken:  0.25518202781677246\n",
      "1200 time taken:  0.2847480773925781\n",
      "1300 time taken:  0.28846096992492676\n",
      "1400 time taken:  0.31378626823425293\n"
     ]
    }
   ],
   "source": [
    "time_taken_imp = []\n",
    "\n",
    "for i in range(100, ranges, 100):\n",
    "    # start timer\n",
    "    start = time.time()\n",
    "    \n",
    "    sup_threshold = i*(60/100)\n",
    "    conf_threshold = 0.8\n",
    "    \n",
    "    tree = Tree(transactions[:i], sup_threshold, None, None)\n",
    "    patterns, frequent_table = tree.generate_patterns(sup_threshold)\n",
    "    \n",
    "    time_taken = time.time() - start\n",
    "    print(i, 'time taken: ', time_taken)\n",
    "    time_taken_imp.append(time_taken)"
   ]
  },
  {
   "cell_type": "code",
   "execution_count": 19,
   "id": "b4e06330",
   "metadata": {
    "scrolled": false
   },
   "outputs": [
    {
     "data": {
      "image/png": "[encoded data removed]",
      "text/plain": [
       "<Figure size 640x480 with 1 Axes>"
      ]
     },
     "metadata": {
      "needs_background": "light"
     },
     "output_type": "display_data"
    }
   ],
   "source": [
    "import matplotlib.pyplot as plt\n",
    "from matplotlib.pyplot import figure\n",
    "\n",
    "figure(figsize=(8, 6), dpi=80)\n",
    "x = np.arange(1000, len(transactions), 1000)\n",
    "y1 = time_taken_lib\n",
    "y2 = time_taken_imp\n",
    "# y3 = [1.21, 1.988, 2.412, 3.01, 2.76, 3.123, 3.79, 4.402, 4.655, 4.94, 5.22, 5.65, 6.02, 6.504, 6.187, 8.49, 7.4, 7.48, 8.707, 10.122, 8.643, 9.17, 9.46, 9.913, 10.38, 10.69, 11.32, 11.726, 12.34, 12.56, 13.02, 14.04, 15.56]\n",
    "\n",
    "plt.plot(x, y1, '-r', linewidth=1, label='pyfpgrowth')\n",
    "plt.plot(x, y2, '-b', linewidth=1, label='implementation')\n",
    "# plt.plot(x, y3, '-g', linewidth=1, label='R')\n",
    "plt.legend()\n",
    "\n",
    "plt.title('Time Taken of The Implementation and pyfpgrowth')\n",
    "plt.xlabel('transactions')\n",
    "plt.ylabel('seconds')\n",
    "\n",
    "plt.show()\n"
   ]
  },
  {
   "cell_type": "markdown",
   "id": "d24f5d31",
   "metadata": {},
   "source": [
    "# Top amenities"
   ]
  },
  {
   "cell_type": "code",
   "execution_count": 20,
   "id": "ba2c2846",
   "metadata": {},
   "outputs": [],
   "source": [
    "# mel = df[df['location'] == 'melbourne']\n",
    "# syd = df[df['location'] == 'sydney']\n",
    "\n",
    "# mel = mel['amenities'].apply(json_to_list).reset_index()['amenities'].tolist()\n",
    "# syd = syd['amenities'].apply(json_to_list).reset_index()['amenities'].tolist()\n",
    "\n",
    "\n",
    "# # get total\n",
    "# total = df['amenities']\n",
    "# total = total.apply(json_to_list)"
   ]
  },
  {
   "cell_type": "code",
   "execution_count": 21,
   "id": "87844e7d",
   "metadata": {},
   "outputs": [],
   "source": [
    "# count each items and select only top ones\n",
    "amenities_counts = {}\n",
    "\n",
    "for i in total:\n",
    "    for j in i:\n",
    "        if j not in amenities_counts:\n",
    "            amenities_counts[j] = 1\n",
    "        else:\n",
    "            amenities_counts[j] += 1\n",
    "\n",
    "amenities_counts = {k: v for k, v in sorted(amenities_counts.items(), key=lambda item: item[1], reverse=True)}\n",
    "\n",
    "amenities_counts\n",
    "\n",
    "top_k_items = {k: amenities_counts[k] for k in list(amenities_counts)[:30]}\n"
   ]
  },
  {
   "cell_type": "code",
   "execution_count": 22,
   "id": "9fd81740",
   "metadata": {},
   "outputs": [
    {
     "data": {
      "image/png": "[encoded data removed]",
      "text/plain": [
       "<Figure size 640x480 with 1 Axes>"
      ]
     },
     "metadata": {
      "needs_background": "light"
     },
     "output_type": "display_data"
    }
   ],
   "source": [
    "x = list(top_k_items.keys())\n",
    "y = list(top_k_items.values())\n",
    "\n",
    "figure(figsize=(8, 6), dpi=80)\n",
    "\n",
    "plt.barh(x,y)\n",
    "plt.title('Top amenities in total from 30th to 60-th most popular ones (both cities combined)')\n",
    "plt.ylabel('Count')\n",
    "plt.xlabel('Amenities')\n",
    "plt.show()"
   ]
  },
  {
   "cell_type": "code",
   "execution_count": 23,
   "id": "e55bce42",
   "metadata": {},
   "outputs": [
    {
     "data": {
      "image/png": "[encoded data removed]",
      "text/plain": [
       "<Figure size 504x504 with 1 Axes>"
      ]
     },
     "metadata": {},
     "output_type": "display_data"
    }
   ],
   "source": [
    "fig = plt.figure()\n",
    "ax = fig.add_axes([0,0,1,1])\n",
    "ax.axis('equal')\n",
    "x = list(top_k_items.keys())\n",
    "y = list(top_k_items.values())\n",
    "ax.pie(y, labels = x,autopct='%1.0f%%')\n",
    "fig = plt.gcf()\n",
    "fig.set_size_inches(7,7) \n",
    "plt.title('Top amenities in Sydney from 30th to 60-th most popular ones')\n",
    "plt.show()"
   ]
  },
  {
   "cell_type": "code",
   "execution_count": null,
   "id": "b8311893",
   "metadata": {},
   "outputs": [],
   "source": []
  }
 ],
 "metadata": {
  "kernelspec": {
   "display_name": "Python 3",
   "language": "python",
   "name": "python3"
  },
  "language_info": {
   "codemirror_mode": {
    "name": "ipython",
    "version": 3
   },
   "file_extension": ".py",
   "mimetype": "text/x-python",
   "name": "python",
   "nbconvert_exporter": "python",
   "pygments_lexer": "ipython3",
   "version": "3.8.8"
  }
 },
 "nbformat": 4,
 "nbformat_minor": 5
}
